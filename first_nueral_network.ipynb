{
  "nbformat": 4,
  "nbformat_minor": 0,
  "metadata": {
    "colab": {
      "provenance": [],
      "authorship_tag": "ABX9TyOxnI9xqTFO+PnWx7IPQZmO",
      "include_colab_link": true
    },
    "kernelspec": {
      "name": "python3",
      "display_name": "Python 3"
    },
    "language_info": {
      "name": "python"
    }
  },
  "cells": [
    {
      "cell_type": "markdown",
      "metadata": {
        "id": "view-in-github",
        "colab_type": "text"
      },
      "source": [
        "<a href=\"https://colab.research.google.com/github/Sudhanshukumar0007/Learning-AI/blob/main/first_nueral_network.ipynb\" target=\"_parent\"><img src=\"https://colab.research.google.com/assets/colab-badge.svg\" alt=\"Open In Colab\"/></a>"
      ]
    },
    {
      "cell_type": "code",
      "execution_count": null,
      "metadata": {
        "id": "B6nOFhXgDC6U"
      },
      "outputs": [],
      "source": [
        "from tensorflow.keras.layers import Dense\n",
        "import tensorflow as tf\n",
        "import numpy as np"
      ]
    },
    {
      "cell_type": "code",
      "source": [
        "from tensorflow.keras.models import Sequential\n",
        "layer_1=Dense(units=3,activation='sigmoid')\n",
        "layer_2=Dense(units=1,activation='sigmoid')\n",
        "model=Sequential([layer_1,layer_2])"
      ],
      "metadata": {
        "id": "a-qC6S9mDeOA"
      },
      "execution_count": null,
      "outputs": []
    },
    {
      "cell_type": "code",
      "source": [
        "x=np.array([[200.0,17.0],[120.0,5.0],[425.0,20.0],[212.0,18.0]])\n",
        "y=np.array([1,0,0,1])\n",
        "x_new=np.array([[170.0,3.0]])\n",
        "model.compile(optimizer='adam', loss='binary_crossentropy', metrics=['accuracy'])\n",
        "\n",
        "# Fit\n",
        "model.fit(x, y, epochs=100, verbose=0)  # Small dataset, so quick training\n",
        "\n",
        "# Predict\n",
        "prob = model.predict(x_new)\n",
        "print(\"Predicted Probability:\", prob[0][0])\n",
        "print(\"Predicted Class:\", 1 if prob[0][0] >= 0.5 else 0)"
      ],
      "metadata": {
        "colab": {
          "base_uri": "https://localhost:8080/"
        },
        "id": "OvrOnYzpD-st",
        "outputId": "82a237f1-5101-4fe7-d26b-947daf189d73"
      },
      "execution_count": null,
      "outputs": [
        {
          "output_type": "stream",
          "name": "stdout",
          "text": [
            "\u001b[1m1/1\u001b[0m \u001b[32m━━━━━━━━━━━━━━━━━━━━\u001b[0m\u001b[37m\u001b[0m \u001b[1m0s\u001b[0m 59ms/step\n",
            "Predicted Probability: 0.49965844\n",
            "Predicted Class: 0\n"
          ]
        }
      ]
    }
  ]
}