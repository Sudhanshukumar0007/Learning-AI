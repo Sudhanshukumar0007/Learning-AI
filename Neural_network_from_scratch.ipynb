{
  "nbformat": 4,
  "nbformat_minor": 0,
  "metadata": {
    "colab": {
      "provenance": [],
      "authorship_tag": "ABX9TyOw6E4RJn2fIMB63Xlpi7rW",
      "include_colab_link": true
    },
    "kernelspec": {
      "name": "python3",
      "display_name": "Python 3"
    },
    "language_info": {
      "name": "python"
    }
  },
  "cells": [
    {
      "cell_type": "markdown",
      "metadata": {
        "id": "view-in-github",
        "colab_type": "text"
      },
      "source": [
        "<a href=\"https://colab.research.google.com/github/Sudhanshukumar0007/Learning-AI/blob/main/Neural_network_from_scratch.ipynb\" target=\"_parent\"><img src=\"https://colab.research.google.com/assets/colab-badge.svg\" alt=\"Open In Colab\"/></a>"
      ]
    },
    {
      "cell_type": "code",
      "execution_count": 31,
      "metadata": {
        "id": "l7MytMxgLewc"
      },
      "outputs": [],
      "source": [
        "import numpy as np"
      ]
    },
    {
      "cell_type": "code",
      "source": [
        "a_in = np.array([-2, 4])\n",
        "\n",
        "# Define weights as a list of 2D numpy arrays (layer-wise)\n",
        "w = [\n",
        "    np.array([[1, -3, 5],      # Layer 1: 2 inputs → 3 neurons\n",
        "              [2, 4, -6]]),\n",
        "\n",
        "    np.array([[0.5, -1],       # Layer 2: 3 → 2\n",
        "              [1.5, 2],\n",
        "              [-1, 1]]),\n",
        "\n",
        "    np.array([[2],             # Layer 3: 2 → 1\n",
        "              [-3]])\n",
        "]\n",
        "\n",
        "# Bias vectors (1D arrays) for each layer\n",
        "b = [\n",
        "    np.array([-1, 1, 2]),      # Layer 1\n",
        "    np.array([0.5, -1]),       # Layer 2\n",
        "    np.array([0.2])            # Output layer\n",
        "]"
      ],
      "metadata": {
        "id": "ri8tVSpGRAlA"
      },
      "execution_count": 32,
      "outputs": []
    },
    {
      "cell_type": "code",
      "source": [
        "def sigmoid(z):\n",
        "    expo = np.exp(-z)\n",
        "    deno = 1 + expo\n",
        "    result = 1 / deno\n",
        "    return result\n",
        "def Dense(a_in, w, b):\n",
        "    units = w.shape[1]\n",
        "    a_out = np.zeros(units)\n",
        "    for j in range(units):\n",
        "        z = np.dot(w[:, j], a_in) + b[j]\n",
        "        a_out[j] = sigmoid(z)\n",
        "    return a_out\n",
        "def Sequential(x, w, b):\n",
        "    a1 = Dense(x, w[0], b[0])\n",
        "    a2 = Dense(a1, w[1], b[1])\n",
        "    a3 = Dense(a2, w[2], b[2])\n",
        "    return a3\n"
      ],
      "metadata": {
        "id": "9hvAGOu3ONDo"
      },
      "execution_count": 33,
      "outputs": []
    },
    {
      "cell_type": "code",
      "source": [
        "output = Sequential(a_in, w, b)\n",
        "print(\"Final Output:\", output)"
      ],
      "metadata": {
        "colab": {
          "base_uri": "https://localhost:8080/"
        },
        "id": "Ciho_F9qSdMa",
        "outputId": "ad06975e-5772-4f54-f092-532845eedbc1"
      },
      "execution_count": 34,
      "outputs": [
        {
          "output_type": "stream",
          "name": "stdout",
          "text": [
            "Final Output: [0.63246217]\n"
          ]
        }
      ]
    }
  ]
}